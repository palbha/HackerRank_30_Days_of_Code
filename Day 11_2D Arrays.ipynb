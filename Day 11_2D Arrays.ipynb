{
 "cells": [
  {
   "cell_type": "code",
   "execution_count": 1,
   "metadata": {},
   "outputs": [
    {
     "name": "stdout",
     "output_type": "stream",
     "text": [
      "1 1 1 0 0 0\n",
      "0 1 0 0 0 0\n",
      "1 1 1 0 0 0\n",
      "0 0 2 4 4 0\n",
      "0 0 0 2 0 0\n",
      "0 0 1 2 4 0\n",
      "19\n"
     ]
    }
   ],
   "source": [
    "#!/bin/python3\n",
    "\n",
    "import math\n",
    "import os\n",
    "import random\n",
    "import re\n",
    "import sys\n",
    "\n",
    "\n",
    "\n",
    "if __name__ == '__main__':\n",
    "    arr = []\n",
    "\n",
    "    for _ in range(6):\n",
    "        arr.append(list(map(int, input().rstrip().split())))\n",
    "    #print(arr)\n",
    "    smax = -9 * 7\n",
    "\n",
    "for row in range(len(arr) - 2):\n",
    "    for column in range(len(arr[row]) - 2):\n",
    "\n",
    "        s = sum(arr[row][column:column + 3])+arr[row+1][column+1]+sum(arr[row+2]                    [column:column + 3])\n",
    "        smax = max(s, smax)\n",
    "\n",
    "print(smax)\n"
   ]
  }
 ],
 "metadata": {
  "kernelspec": {
   "display_name": "Python 3",
   "language": "python",
   "name": "python3"
  },
  "language_info": {
   "codemirror_mode": {
    "name": "ipython",
    "version": 3
   },
   "file_extension": ".py",
   "mimetype": "text/x-python",
   "name": "python",
   "nbconvert_exporter": "python",
   "pygments_lexer": "ipython3",
   "version": "3.7.1"
  }
 },
 "nbformat": 4,
 "nbformat_minor": 2
}
