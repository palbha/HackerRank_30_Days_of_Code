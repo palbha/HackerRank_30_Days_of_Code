{
 "cells": [
  {
   "cell_type": "code",
   "execution_count": 2,
   "metadata": {},
   "outputs": [
    {
     "name": "stdout",
     "output_type": "stream",
     "text": [
      "3\n",
      "6\n"
     ]
    }
   ],
   "source": [
    "#!/bin/python3\n",
    "\n",
    "import math\n",
    "import os\n",
    "import random\n",
    "import re\n",
    "import sys\n",
    "\n",
    "# Complete the factorial function below.\n",
    "def factorial(n):\n",
    "    if n==1:\n",
    "        return n\n",
    "    else :\n",
    "        return (n*factorial(n-1))\n",
    "\n",
    "if __name__ == '__main__':\n",
    "    #fptr = open(os.environ['OUTPUT_PATH'], 'w')\n",
    "\n",
    "    n = int(input())\n",
    "\n",
    "    result = factorial(n)\n",
    "    print(result)\n",
    "    #fptr.write(str(result) + '\\n')\n",
    "\n",
    "    #fptr.close()\n"
   ]
  }
 ],
 "metadata": {
  "kernelspec": {
   "display_name": "Python 3",
   "language": "python",
   "name": "python3"
  },
  "language_info": {
   "codemirror_mode": {
    "name": "ipython",
    "version": 3
   },
   "file_extension": ".py",
   "mimetype": "text/x-python",
   "name": "python",
   "nbconvert_exporter": "python",
   "pygments_lexer": "ipython3",
   "version": "3.7.1"
  }
 },
 "nbformat": 4,
 "nbformat_minor": 2
}
