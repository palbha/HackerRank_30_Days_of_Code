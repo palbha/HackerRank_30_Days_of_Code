{
 "cells": [
  {
   "cell_type": "code",
   "execution_count": 2,
   "metadata": {},
   "outputs": [
    {
     "name": "stdout",
     "output_type": "stream",
     "text": [
      "3\n",
      "sam 1123\n",
      "edward 2456\n",
      "harry 3456\n",
      "tom\n",
      "Not found\n",
      "harry\n",
      "harry=3456\n",
      "sam\n",
      "sam=1123\n"
     ]
    }
   ],
   "source": [
    "# Enter your code here. Read input from STDIN. Print output to STDOUT\n",
    "n=int(input())\n",
    "dict1={}\n",
    "for i in range(n):\n",
    "    x,y=input().split()\n",
    "    dict1[x]=int(y)\n",
    "\n",
    "for k in range(n):\n",
    "    j=input()\n",
    "    if j in dict1:\n",
    "        print(str(j)+\"=\"+str(dict1[j]))\n",
    "    else:\n",
    "        print(\"Not found\")\n"
   ]
  }
 ],
 "metadata": {
  "kernelspec": {
   "display_name": "Python 3",
   "language": "python",
   "name": "python3"
  },
  "language_info": {
   "codemirror_mode": {
    "name": "ipython",
    "version": 3
   },
   "file_extension": ".py",
   "mimetype": "text/x-python",
   "name": "python",
   "nbconvert_exporter": "python",
   "pygments_lexer": "ipython3",
   "version": "3.7.1"
  }
 },
 "nbformat": 4,
 "nbformat_minor": 2
}
