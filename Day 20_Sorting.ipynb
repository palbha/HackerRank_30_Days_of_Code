{
 "cells": [
  {
   "cell_type": "code",
   "execution_count": null,
   "metadata": {},
   "outputs": [],
   "source": [
    "#!/bin/python3\n",
    "\n",
    "import sys\n",
    "\n",
    "n = int(input().strip())\n",
    "a = list(map(int, input().strip().split(' ')))\n",
    "# Write Your Code Here\n",
    "numberOfSwaps = 0\n",
    "for i in range(n):\n",
    "    # Track number of elements swapped during a single array traversal\n",
    "    \n",
    "    \n",
    "    for j in range(n-1) :\n",
    "        # Swap adjacent elements if they are in decreasing order\n",
    "        if (a[j] > a[j + 1]):\n",
    "            #swap(a[j], a[j + 1])\n",
    "            k=a[j]\n",
    "            a[j]=a[j+1]\n",
    "            a[j+1]=k\n",
    "            \n",
    "            numberOfSwaps=numberOfSwaps+1\n",
    "        \n",
    "    \n",
    "    \n",
    "    # If no elements were swapped during a traversal, array is sorted\n",
    "    if (numberOfSwaps == 0):\n",
    "        break\n",
    "\n",
    "print(\"Array is sorted in \"+str(numberOfSwaps)+\" swaps.\")\n",
    "print(\"First Element: \"+str(a[0]))\n",
    "print(\"Last Element: \"+str(a[-1]))\n"
   ]
  }
 ],
 "metadata": {
  "kernelspec": {
   "display_name": "Python 3",
   "language": "python",
   "name": "python3"
  },
  "language_info": {
   "codemirror_mode": {
    "name": "ipython",
    "version": 3
   },
   "file_extension": ".py",
   "mimetype": "text/x-python",
   "name": "python",
   "nbconvert_exporter": "python",
   "pygments_lexer": "ipython3",
   "version": "3.7.1"
  }
 },
 "nbformat": 4,
 "nbformat_minor": 2
}
