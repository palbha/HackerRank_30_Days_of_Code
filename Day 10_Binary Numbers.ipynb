{
 "cells": [
  {
   "cell_type": "code",
   "execution_count": 1,
   "metadata": {},
   "outputs": [
    {
     "name": "stdout",
     "output_type": "stream",
     "text": [
      "3\n",
      "2\n"
     ]
    }
   ],
   "source": [
    "#!/bin/python3\n",
    "\n",
    "import math\n",
    "import os\n",
    "import random\n",
    "import re\n",
    "import sys\n",
    "\n",
    "\n",
    "if __name__ == '__main__':\n",
    "    n = int(input())\n",
    "    #bin(n) directly converts the number n into its binary values\n",
    "    n_b=(bin(n))[2:]\n",
    "    \n",
    "    cons_1=0\n",
    "    #we will check step by step if string \"1\",\"11\" is present in the binary value of the number or not\n",
    "    \n",
    "    ones=\"1\"\n",
    "    for i in range(len(n_b)):\n",
    "    \n",
    "        if ones in n_b:\n",
    "            cons_1=len(ones)\n",
    "        ones=ones+\"1\"\n",
    "    \n",
    "    print(cons_1)"
   ]
  }
 ],
 "metadata": {
  "kernelspec": {
   "display_name": "Python 3",
   "language": "python",
   "name": "python3"
  },
  "language_info": {
   "codemirror_mode": {
    "name": "ipython",
    "version": 3
   },
   "file_extension": ".py",
   "mimetype": "text/x-python",
   "name": "python",
   "nbconvert_exporter": "python",
   "pygments_lexer": "ipython3",
   "version": "3.7.1"
  }
 },
 "nbformat": 4,
 "nbformat_minor": 2
}
