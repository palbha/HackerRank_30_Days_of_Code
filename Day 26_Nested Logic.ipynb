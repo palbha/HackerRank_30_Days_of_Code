{
 "cells": [
  {
   "cell_type": "code",
   "execution_count": null,
   "metadata": {},
   "outputs": [],
   "source": [
    "# Enter your code here. Read input from STDIN. Print output to STDOUT\n",
    "da,ma,ya=input().split()\n",
    "de,me,ye=input().split()\n",
    "da=int(da)\n",
    "ma=int(ma)\n",
    "ya=int(ya)\n",
    "de=int(de)\n",
    "me=int(me)\n",
    "ye=int(ye)\n",
    "if ya<ye:\n",
    "    print(0)\n",
    "elif (ma==me and ya==ye)  :\n",
    "    if da<=de:\n",
    "        print(0)\n",
    "    else:\n",
    "        print(15*(da-de))\n",
    "elif ya==ye:\n",
    "    if ma>me:\n",
    "        print(500*(ma-me))\n",
    "    else:\n",
    "        print(0)\n",
    "else :\n",
    "    print(10000)"
   ]
  }
 ],
 "metadata": {
  "kernelspec": {
   "display_name": "Python 3",
   "language": "python",
   "name": "python3"
  },
  "language_info": {
   "codemirror_mode": {
    "name": "ipython",
    "version": 3
   },
   "file_extension": ".py",
   "mimetype": "text/x-python",
   "name": "python",
   "nbconvert_exporter": "python",
   "pygments_lexer": "ipython3",
   "version": "3.7.1"
  }
 },
 "nbformat": 4,
 "nbformat_minor": 2
}
