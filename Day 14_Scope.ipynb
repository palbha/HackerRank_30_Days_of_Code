{
 "cells": [
  {
   "cell_type": "code",
   "execution_count": 1,
   "metadata": {},
   "outputs": [
    {
     "data": {
      "text/plain": [
       "7"
      ]
     },
     "execution_count": 1,
     "metadata": {},
     "output_type": "execute_result"
    }
   ],
   "source": [
    "class Difference:\n",
    "    def __init__(self, a):\n",
    "        self.__elements = a\n",
    "\n",
    "    # Add your code here\n",
    "    def computeDifference(self):\n",
    "        diff=[]\n",
    "        for i in range(len(self.__elements)):\n",
    "            for j in range(len(self.__elements)):\n",
    "                if (i!=j):\n",
    "                    diff.append(abs(self.__elements[i]-self.__elements[j]))\n",
    "        Difference.maximumDifference=max(diff)\n",
    "# End of Difference class\n",
    "\n",
    "_ = input()\n",
    "a = [int(e) for e in input().split(' ')]\n",
    "\n",
    "d = Difference(a)\n",
    "d.computeDifference()\n",
    "\n",
    "print(d.maximumDifference)"
   ]
  }
 ],
 "metadata": {
  "kernelspec": {
   "display_name": "Python 3",
   "language": "python",
   "name": "python3"
  },
  "language_info": {
   "codemirror_mode": {
    "name": "ipython",
    "version": 3
   },
   "file_extension": ".py",
   "mimetype": "text/x-python",
   "name": "python",
   "nbconvert_exporter": "python",
   "pygments_lexer": "ipython3",
   "version": "3.7.1"
  }
 },
 "nbformat": 4,
 "nbformat_minor": 2
}
