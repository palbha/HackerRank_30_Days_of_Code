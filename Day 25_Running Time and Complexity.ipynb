{
 "cells": [
  {
   "cell_type": "code",
   "execution_count": null,
   "metadata": {},
   "outputs": [],
   "source": [
    "# Enter your code here. Read input from STDIN. Print output to STDOUT\n",
    "\n",
    "from math import sqrt\n",
    "def isPrime(n):\n",
    "    for i in range(2, int(sqrt(n)+1)):\n",
    "        if n % i == 0:\n",
    "            return False\n",
    "    return True\n",
    "\n",
    "test_case=int(input())\n",
    "for i in range(test_case):\n",
    "    num=int(input())\n",
    "    count=0\n",
    "    if num>2 :\n",
    "        if isPrime(num) :\n",
    "            print(\"Prime\")\n",
    "        else:\n",
    "            print(\"Not prime\")\n",
    "    elif num==2:\n",
    "        print(\"Prime\")\n",
    "        \n",
    "    else:\n",
    "        print(\"Not prime\")\n"
   ]
  }
 ],
 "metadata": {
  "kernelspec": {
   "display_name": "Python 3",
   "language": "python",
   "name": "python3"
  },
  "language_info": {
   "codemirror_mode": {
    "name": "ipython",
    "version": 3
   },
   "file_extension": ".py",
   "mimetype": "text/x-python",
   "name": "python",
   "nbconvert_exporter": "python",
   "pygments_lexer": "ipython3",
   "version": "3.7.1"
  }
 },
 "nbformat": 4,
 "nbformat_minor": 2
}
