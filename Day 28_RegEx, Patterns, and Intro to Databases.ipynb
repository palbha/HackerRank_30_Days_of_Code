{
 "cells": [
  {
   "cell_type": "code",
   "execution_count": 1,
   "metadata": {},
   "outputs": [
    {
     "name": "stdin",
     "output_type": "stream",
     "text": [
      " 2\n",
      " palbha palbanazwale@gmail.com\n",
      " shina shina@yahoo.com\n"
     ]
    },
    {
     "name": "stdout",
     "output_type": "stream",
     "text": [
      "palbha\n"
     ]
    }
   ],
   "source": [
    "#!/bin/python3\n",
    "\n",
    "import math\n",
    "import os\n",
    "import random\n",
    "import re\n",
    "import sys\n",
    "\n",
    "\n",
    "\n",
    "if __name__ == '__main__':\n",
    "    N = int(input())\n",
    "    list1=[]\n",
    "    for N_itr in range(N):\n",
    "        firstNameEmailID = input().split()\n",
    "\n",
    "        firstName = firstNameEmailID[0]\n",
    "\n",
    "        emailID = firstNameEmailID[1]\n",
    "\n",
    "        eid_0,eid_1=emailID.split(\"@\")\n",
    "        if eid_1==\"gmail.com\":\n",
    "            list1.append(firstName)\n",
    "    \n",
    "    list1.sort()\n",
    "    for i in list1:\n",
    "        print(i)"
   ]
  }
 ],
 "metadata": {
  "kernelspec": {
   "display_name": "Python 3",
   "language": "python",
   "name": "python3"
  },
  "language_info": {
   "codemirror_mode": {
    "name": "ipython",
    "version": 3
   },
   "file_extension": ".py",
   "mimetype": "text/x-python",
   "name": "python",
   "nbconvert_exporter": "python",
   "pygments_lexer": "ipython3",
   "version": "3.7.1"
  }
 },
 "nbformat": 4,
 "nbformat_minor": 2
}
